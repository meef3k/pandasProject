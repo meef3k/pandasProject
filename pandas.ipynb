{
 "cells": [
  {
   "cell_type": "markdown",
   "source": [
    "Import libraries"
   ],
   "metadata": {
    "collapsed": false
   },
   "id": "ee54dcdf5fcf56e4"
  },
  {
   "cell_type": "code",
   "execution_count": 274,
   "id": "initial_id",
   "metadata": {
    "collapsed": true,
    "ExecuteTime": {
     "end_time": "2024-06-01T00:49:34.754490Z",
     "start_time": "2024-06-01T00:49:34.751620Z"
    }
   },
   "outputs": [],
   "source": [
    "import sqlite3\n",
    "import pandas as pd\n",
    "import numpy as np\n",
    "import matplotlib.pyplot as mpl"
   ]
  },
  {
   "cell_type": "markdown",
   "source": [
    "Connect to database"
   ],
   "metadata": {
    "collapsed": false
   },
   "id": "ea973ffc12cd653d"
  },
  {
   "cell_type": "code",
   "outputs": [],
   "source": [
    "db_path = \"database.sqlite\"\n",
    "connection = sqlite3.connect(db_path)"
   ],
   "metadata": {
    "collapsed": false,
    "ExecuteTime": {
     "end_time": "2024-06-01T00:49:37.239210Z",
     "start_time": "2024-06-01T00:49:37.236873Z"
    }
   },
   "id": "a5c0bf5f6d93f06d",
   "execution_count": 275
  },
  {
   "cell_type": "markdown",
   "source": [
    "All available tables"
   ],
   "metadata": {
    "collapsed": false
   },
   "id": "7716b53bd512ee40"
  },
  {
   "cell_type": "code",
   "outputs": [
    {
     "ename": "DatabaseError",
     "evalue": "Execution failed on sql 'SELECT name FROM sqlite_master WHERE type='table';': file is not a database",
     "output_type": "error",
     "traceback": [
      "\u001B[0;31m---------------------------------------------------------------------------\u001B[0m",
      "\u001B[0;31mDatabaseError\u001B[0m                             Traceback (most recent call last)",
      "File \u001B[0;32m~/PycharmProjects/pandasProject/.venv/lib/python3.12/site-packages/pandas/io/sql.py:2674\u001B[0m, in \u001B[0;36mSQLiteDatabase.execute\u001B[0;34m(self, sql, params)\u001B[0m\n\u001B[1;32m   2673\u001B[0m \u001B[38;5;28;01mtry\u001B[39;00m:\n\u001B[0;32m-> 2674\u001B[0m     \u001B[43mcur\u001B[49m\u001B[38;5;241;43m.\u001B[39;49m\u001B[43mexecute\u001B[49m\u001B[43m(\u001B[49m\u001B[43msql\u001B[49m\u001B[43m,\u001B[49m\u001B[43m \u001B[49m\u001B[38;5;241;43m*\u001B[39;49m\u001B[43margs\u001B[49m\u001B[43m)\u001B[49m\n\u001B[1;32m   2675\u001B[0m     \u001B[38;5;28;01mreturn\u001B[39;00m cur\n",
      "\u001B[0;31mDatabaseError\u001B[0m: file is not a database",
      "\nThe above exception was the direct cause of the following exception:\n",
      "\u001B[0;31mDatabaseError\u001B[0m                             Traceback (most recent call last)",
      "Cell \u001B[0;32mIn[277], line 2\u001B[0m\n\u001B[1;32m      1\u001B[0m tables_query \u001B[38;5;241m=\u001B[39m \u001B[38;5;124m\"\u001B[39m\u001B[38;5;124mSELECT name FROM sqlite_master WHERE type=\u001B[39m\u001B[38;5;124m'\u001B[39m\u001B[38;5;124mtable\u001B[39m\u001B[38;5;124m'\u001B[39m\u001B[38;5;124m;\u001B[39m\u001B[38;5;124m\"\u001B[39m\n\u001B[0;32m----> 2\u001B[0m \u001B[43mpd\u001B[49m\u001B[38;5;241;43m.\u001B[39;49m\u001B[43mread_sql_query\u001B[49m\u001B[43m(\u001B[49m\u001B[43mtables_query\u001B[49m\u001B[43m,\u001B[49m\u001B[43m \u001B[49m\u001B[43mconnection\u001B[49m\u001B[43m)\u001B[49m\n",
      "File \u001B[0;32m~/PycharmProjects/pandasProject/.venv/lib/python3.12/site-packages/pandas/io/sql.py:526\u001B[0m, in \u001B[0;36mread_sql_query\u001B[0;34m(sql, con, index_col, coerce_float, params, parse_dates, chunksize, dtype, dtype_backend)\u001B[0m\n\u001B[1;32m    523\u001B[0m \u001B[38;5;28;01massert\u001B[39;00m dtype_backend \u001B[38;5;129;01mis\u001B[39;00m \u001B[38;5;129;01mnot\u001B[39;00m lib\u001B[38;5;241m.\u001B[39mno_default\n\u001B[1;32m    525\u001B[0m \u001B[38;5;28;01mwith\u001B[39;00m pandasSQL_builder(con) \u001B[38;5;28;01mas\u001B[39;00m pandas_sql:\n\u001B[0;32m--> 526\u001B[0m     \u001B[38;5;28;01mreturn\u001B[39;00m \u001B[43mpandas_sql\u001B[49m\u001B[38;5;241;43m.\u001B[39;49m\u001B[43mread_query\u001B[49m\u001B[43m(\u001B[49m\n\u001B[1;32m    527\u001B[0m \u001B[43m        \u001B[49m\u001B[43msql\u001B[49m\u001B[43m,\u001B[49m\n\u001B[1;32m    528\u001B[0m \u001B[43m        \u001B[49m\u001B[43mindex_col\u001B[49m\u001B[38;5;241;43m=\u001B[39;49m\u001B[43mindex_col\u001B[49m\u001B[43m,\u001B[49m\n\u001B[1;32m    529\u001B[0m \u001B[43m        \u001B[49m\u001B[43mparams\u001B[49m\u001B[38;5;241;43m=\u001B[39;49m\u001B[43mparams\u001B[49m\u001B[43m,\u001B[49m\n\u001B[1;32m    530\u001B[0m \u001B[43m        \u001B[49m\u001B[43mcoerce_float\u001B[49m\u001B[38;5;241;43m=\u001B[39;49m\u001B[43mcoerce_float\u001B[49m\u001B[43m,\u001B[49m\n\u001B[1;32m    531\u001B[0m \u001B[43m        \u001B[49m\u001B[43mparse_dates\u001B[49m\u001B[38;5;241;43m=\u001B[39;49m\u001B[43mparse_dates\u001B[49m\u001B[43m,\u001B[49m\n\u001B[1;32m    532\u001B[0m \u001B[43m        \u001B[49m\u001B[43mchunksize\u001B[49m\u001B[38;5;241;43m=\u001B[39;49m\u001B[43mchunksize\u001B[49m\u001B[43m,\u001B[49m\n\u001B[1;32m    533\u001B[0m \u001B[43m        \u001B[49m\u001B[43mdtype\u001B[49m\u001B[38;5;241;43m=\u001B[39;49m\u001B[43mdtype\u001B[49m\u001B[43m,\u001B[49m\n\u001B[1;32m    534\u001B[0m \u001B[43m        \u001B[49m\u001B[43mdtype_backend\u001B[49m\u001B[38;5;241;43m=\u001B[39;49m\u001B[43mdtype_backend\u001B[49m\u001B[43m,\u001B[49m\n\u001B[1;32m    535\u001B[0m \u001B[43m    \u001B[49m\u001B[43m)\u001B[49m\n",
      "File \u001B[0;32m~/PycharmProjects/pandasProject/.venv/lib/python3.12/site-packages/pandas/io/sql.py:2738\u001B[0m, in \u001B[0;36mSQLiteDatabase.read_query\u001B[0;34m(self, sql, index_col, coerce_float, parse_dates, params, chunksize, dtype, dtype_backend)\u001B[0m\n\u001B[1;32m   2727\u001B[0m \u001B[38;5;28;01mdef\u001B[39;00m \u001B[38;5;21mread_query\u001B[39m(\n\u001B[1;32m   2728\u001B[0m     \u001B[38;5;28mself\u001B[39m,\n\u001B[1;32m   2729\u001B[0m     sql,\n\u001B[0;32m   (...)\u001B[0m\n\u001B[1;32m   2736\u001B[0m     dtype_backend: DtypeBackend \u001B[38;5;241m|\u001B[39m Literal[\u001B[38;5;124m\"\u001B[39m\u001B[38;5;124mnumpy\u001B[39m\u001B[38;5;124m\"\u001B[39m] \u001B[38;5;241m=\u001B[39m \u001B[38;5;124m\"\u001B[39m\u001B[38;5;124mnumpy\u001B[39m\u001B[38;5;124m\"\u001B[39m,\n\u001B[1;32m   2737\u001B[0m ) \u001B[38;5;241m-\u001B[39m\u001B[38;5;241m>\u001B[39m DataFrame \u001B[38;5;241m|\u001B[39m Iterator[DataFrame]:\n\u001B[0;32m-> 2738\u001B[0m     cursor \u001B[38;5;241m=\u001B[39m \u001B[38;5;28;43mself\u001B[39;49m\u001B[38;5;241;43m.\u001B[39;49m\u001B[43mexecute\u001B[49m\u001B[43m(\u001B[49m\u001B[43msql\u001B[49m\u001B[43m,\u001B[49m\u001B[43m \u001B[49m\u001B[43mparams\u001B[49m\u001B[43m)\u001B[49m\n\u001B[1;32m   2739\u001B[0m     columns \u001B[38;5;241m=\u001B[39m [col_desc[\u001B[38;5;241m0\u001B[39m] \u001B[38;5;28;01mfor\u001B[39;00m col_desc \u001B[38;5;129;01min\u001B[39;00m cursor\u001B[38;5;241m.\u001B[39mdescription]\n\u001B[1;32m   2741\u001B[0m     \u001B[38;5;28;01mif\u001B[39;00m chunksize \u001B[38;5;129;01mis\u001B[39;00m \u001B[38;5;129;01mnot\u001B[39;00m \u001B[38;5;28;01mNone\u001B[39;00m:\n",
      "File \u001B[0;32m~/PycharmProjects/pandasProject/.venv/lib/python3.12/site-packages/pandas/io/sql.py:2686\u001B[0m, in \u001B[0;36mSQLiteDatabase.execute\u001B[0;34m(self, sql, params)\u001B[0m\n\u001B[1;32m   2683\u001B[0m     \u001B[38;5;28;01mraise\u001B[39;00m ex \u001B[38;5;28;01mfrom\u001B[39;00m \u001B[38;5;21;01minner_exc\u001B[39;00m\n\u001B[1;32m   2685\u001B[0m ex \u001B[38;5;241m=\u001B[39m DatabaseError(\u001B[38;5;124mf\u001B[39m\u001B[38;5;124m\"\u001B[39m\u001B[38;5;124mExecution failed on sql \u001B[39m\u001B[38;5;124m'\u001B[39m\u001B[38;5;132;01m{\u001B[39;00msql\u001B[38;5;132;01m}\u001B[39;00m\u001B[38;5;124m'\u001B[39m\u001B[38;5;124m: \u001B[39m\u001B[38;5;132;01m{\u001B[39;00mexc\u001B[38;5;132;01m}\u001B[39;00m\u001B[38;5;124m\"\u001B[39m)\n\u001B[0;32m-> 2686\u001B[0m \u001B[38;5;28;01mraise\u001B[39;00m ex \u001B[38;5;28;01mfrom\u001B[39;00m \u001B[38;5;21;01mexc\u001B[39;00m\n",
      "\u001B[0;31mDatabaseError\u001B[0m: Execution failed on sql 'SELECT name FROM sqlite_master WHERE type='table';': file is not a database"
     ]
    }
   ],
   "source": [
    "tables_query = \"SELECT name FROM sqlite_master WHERE type='table';\"\n",
    "pd.read_sql_query(tables_query, connection)"
   ],
   "metadata": {
    "collapsed": false,
    "ExecuteTime": {
     "end_time": "2024-06-01T00:49:48.200100Z",
     "start_time": "2024-06-01T00:49:48.173093Z"
    }
   },
   "id": "6c66ba552bb50d08",
   "execution_count": 277
  },
  {
   "cell_type": "markdown",
   "source": [
    "Function to read table data to DataFrame"
   ],
   "metadata": {
    "collapsed": false
   },
   "id": "56db6ce563b8b0d4"
  },
  {
   "cell_type": "code",
   "outputs": [],
   "source": [
    "def read_table(table_name):\n",
    "    query = \"SELECT * FROM \" + table_name\n",
    "    return pd.read_sql_query(query, connection)"
   ],
   "metadata": {
    "collapsed": false
   },
   "id": "3c14c9177e4f416f",
   "execution_count": null
  },
  {
   "cell_type": "markdown",
   "source": [
    "Read tables to DataFrame"
   ],
   "metadata": {
    "collapsed": false
   },
   "id": "768e60d6e29e08b2"
  },
  {
   "cell_type": "code",
   "outputs": [],
   "source": [
    "df_player_attributes = read_table(\"Player_Attributes\")\n",
    "df_player = read_table(\"Player\")\n",
    "df_match = read_table(\"Match\")\n",
    "df_league = read_table(\"League\")\n",
    "df_country = read_table(\"Country\")\n",
    "df_team = read_table(\"Team\")\n",
    "df_team_attributes = read_table(\"Team_Attributes\")"
   ],
   "metadata": {
    "collapsed": false
   },
   "id": "5144d2728f3720ab",
   "execution_count": null
  },
  {
   "cell_type": "markdown",
   "source": [
    "Read 'Team' table"
   ],
   "metadata": {
    "collapsed": false
   },
   "id": "925be423c0f73863"
  },
  {
   "cell_type": "code",
   "outputs": [
    {
     "data": {
      "text/plain": "   id  player_api_id         player_name  player_fifa_api_id  \\\n0   1         505942  Aaron Appindangoye              218353   \n1   2         155782     Aaron Cresswell              189615   \n2   3         162549         Aaron Doran              186170   \n3   4          30572       Aaron Galindo              140161   \n4   5          23780        Aaron Hughes               17725   \n\n              birthday  height  weight  \n0  1992-02-29 00:00:00  182.88     187  \n1  1989-12-15 00:00:00  170.18     146  \n2  1991-05-13 00:00:00  170.18     163  \n3  1982-05-08 00:00:00  182.88     198  \n4  1979-11-08 00:00:00  182.88     154  ",
      "text/html": "<div>\n<style scoped>\n    .dataframe tbody tr th:only-of-type {\n        vertical-align: middle;\n    }\n\n    .dataframe tbody tr th {\n        vertical-align: top;\n    }\n\n    .dataframe thead th {\n        text-align: right;\n    }\n</style>\n<table border=\"1\" class=\"dataframe\">\n  <thead>\n    <tr style=\"text-align: right;\">\n      <th></th>\n      <th>id</th>\n      <th>player_api_id</th>\n      <th>player_name</th>\n      <th>player_fifa_api_id</th>\n      <th>birthday</th>\n      <th>height</th>\n      <th>weight</th>\n    </tr>\n  </thead>\n  <tbody>\n    <tr>\n      <th>0</th>\n      <td>1</td>\n      <td>505942</td>\n      <td>Aaron Appindangoye</td>\n      <td>218353</td>\n      <td>1992-02-29 00:00:00</td>\n      <td>182.88</td>\n      <td>187</td>\n    </tr>\n    <tr>\n      <th>1</th>\n      <td>2</td>\n      <td>155782</td>\n      <td>Aaron Cresswell</td>\n      <td>189615</td>\n      <td>1989-12-15 00:00:00</td>\n      <td>170.18</td>\n      <td>146</td>\n    </tr>\n    <tr>\n      <th>2</th>\n      <td>3</td>\n      <td>162549</td>\n      <td>Aaron Doran</td>\n      <td>186170</td>\n      <td>1991-05-13 00:00:00</td>\n      <td>170.18</td>\n      <td>163</td>\n    </tr>\n    <tr>\n      <th>3</th>\n      <td>4</td>\n      <td>30572</td>\n      <td>Aaron Galindo</td>\n      <td>140161</td>\n      <td>1982-05-08 00:00:00</td>\n      <td>182.88</td>\n      <td>198</td>\n    </tr>\n    <tr>\n      <th>4</th>\n      <td>5</td>\n      <td>23780</td>\n      <td>Aaron Hughes</td>\n      <td>17725</td>\n      <td>1979-11-08 00:00:00</td>\n      <td>182.88</td>\n      <td>154</td>\n    </tr>\n  </tbody>\n</table>\n</div>"
     },
     "execution_count": 261,
     "metadata": {},
     "output_type": "execute_result"
    }
   ],
   "source": [
    "df_player.head()"
   ],
   "metadata": {
    "collapsed": false,
    "ExecuteTime": {
     "end_time": "2024-06-01T00:49:24.914300Z",
     "start_time": "2024-06-01T00:49:24.910168Z"
    }
   },
   "id": "7dda109c2a5d2a83",
   "execution_count": 261
  },
  {
   "cell_type": "markdown",
   "source": [
    "Players sorted by weight"
   ],
   "metadata": {
    "collapsed": false
   },
   "id": "8779609c4564c259"
  },
  {
   "cell_type": "code",
   "outputs": [
    {
     "data": {
      "text/plain": "weight\n165    811\n176    697\n154    660\n172    656\n168    600\n159    595\n163    577\n161    565\n170    551\n174    488\n181    441\n183    404\n157    397\n179    375\n185    343\n150    341\n187    310\n152    256\n148    231\n143    216\n190    202\n146    177\n194    160\n192    148\n198    132\n141    129\n196    107\n139     73\n203     60\n137     59\n201     53\n132     49\n134     37\n205     35\n209     28\n207     26\n212     18\n128     10\n130     10\n214      7\n126      5\n216      5\n220      4\n218      3\n123      2\n243      2\n121      2\n225      1\n227      1\n117      1\nName: count, dtype: int64"
     },
     "execution_count": 262,
     "metadata": {},
     "output_type": "execute_result"
    }
   ],
   "source": [
    "df_player['weight'].value_counts()"
   ],
   "metadata": {
    "collapsed": false,
    "ExecuteTime": {
     "end_time": "2024-06-01T00:49:24.918074Z",
     "start_time": "2024-06-01T00:49:24.915215Z"
    }
   },
   "id": "5c953f43fd9fb1e6",
   "execution_count": 262
  },
  {
   "cell_type": "markdown",
   "source": [
    "Read 'League' table"
   ],
   "metadata": {
    "collapsed": false
   },
   "id": "73afdda2f02ffdd0"
  },
  {
   "cell_type": "code",
   "outputs": [
    {
     "data": {
      "text/plain": "      id  country_id                    name\n0      1           1  Belgium Jupiler League\n1   1729        1729  England Premier League\n2   4769        4769          France Ligue 1\n3   7809        7809   Germany 1. Bundesliga\n4  10257       10257           Italy Serie A",
      "text/html": "<div>\n<style scoped>\n    .dataframe tbody tr th:only-of-type {\n        vertical-align: middle;\n    }\n\n    .dataframe tbody tr th {\n        vertical-align: top;\n    }\n\n    .dataframe thead th {\n        text-align: right;\n    }\n</style>\n<table border=\"1\" class=\"dataframe\">\n  <thead>\n    <tr style=\"text-align: right;\">\n      <th></th>\n      <th>id</th>\n      <th>country_id</th>\n      <th>name</th>\n    </tr>\n  </thead>\n  <tbody>\n    <tr>\n      <th>0</th>\n      <td>1</td>\n      <td>1</td>\n      <td>Belgium Jupiler League</td>\n    </tr>\n    <tr>\n      <th>1</th>\n      <td>1729</td>\n      <td>1729</td>\n      <td>England Premier League</td>\n    </tr>\n    <tr>\n      <th>2</th>\n      <td>4769</td>\n      <td>4769</td>\n      <td>France Ligue 1</td>\n    </tr>\n    <tr>\n      <th>3</th>\n      <td>7809</td>\n      <td>7809</td>\n      <td>Germany 1. Bundesliga</td>\n    </tr>\n    <tr>\n      <th>4</th>\n      <td>10257</td>\n      <td>10257</td>\n      <td>Italy Serie A</td>\n    </tr>\n  </tbody>\n</table>\n</div>"
     },
     "execution_count": 263,
     "metadata": {},
     "output_type": "execute_result"
    }
   ],
   "source": [
    "df_league.head()"
   ],
   "metadata": {
    "collapsed": false,
    "ExecuteTime": {
     "end_time": "2024-06-01T00:49:24.935479Z",
     "start_time": "2024-06-01T00:49:24.932281Z"
    }
   },
   "id": "e8aeec058c154827",
   "execution_count": 263
  },
  {
   "cell_type": "markdown",
   "source": [
    "Sort leagues by name"
   ],
   "metadata": {
    "collapsed": false
   },
   "id": "a62b2d877e38e49f"
  },
  {
   "cell_type": "code",
   "outputs": [
    {
     "data": {
      "text/plain": "       id  country_id                      name\n0       1           1    Belgium Jupiler League\n1    1729        1729    England Premier League\n2    4769        4769            France Ligue 1\n3    7809        7809     Germany 1. Bundesliga\n4   10257       10257             Italy Serie A\n5   13274       13274    Netherlands Eredivisie\n6   15722       15722        Poland Ekstraklasa\n7   17642       17642  Portugal Liga ZON Sagres\n8   19694       19694   Scotland Premier League\n9   21518       21518           Spain LIGA BBVA\n10  24558       24558  Switzerland Super League",
      "text/html": "<div>\n<style scoped>\n    .dataframe tbody tr th:only-of-type {\n        vertical-align: middle;\n    }\n\n    .dataframe tbody tr th {\n        vertical-align: top;\n    }\n\n    .dataframe thead th {\n        text-align: right;\n    }\n</style>\n<table border=\"1\" class=\"dataframe\">\n  <thead>\n    <tr style=\"text-align: right;\">\n      <th></th>\n      <th>id</th>\n      <th>country_id</th>\n      <th>name</th>\n    </tr>\n  </thead>\n  <tbody>\n    <tr>\n      <th>0</th>\n      <td>1</td>\n      <td>1</td>\n      <td>Belgium Jupiler League</td>\n    </tr>\n    <tr>\n      <th>1</th>\n      <td>1729</td>\n      <td>1729</td>\n      <td>England Premier League</td>\n    </tr>\n    <tr>\n      <th>2</th>\n      <td>4769</td>\n      <td>4769</td>\n      <td>France Ligue 1</td>\n    </tr>\n    <tr>\n      <th>3</th>\n      <td>7809</td>\n      <td>7809</td>\n      <td>Germany 1. Bundesliga</td>\n    </tr>\n    <tr>\n      <th>4</th>\n      <td>10257</td>\n      <td>10257</td>\n      <td>Italy Serie A</td>\n    </tr>\n    <tr>\n      <th>5</th>\n      <td>13274</td>\n      <td>13274</td>\n      <td>Netherlands Eredivisie</td>\n    </tr>\n    <tr>\n      <th>6</th>\n      <td>15722</td>\n      <td>15722</td>\n      <td>Poland Ekstraklasa</td>\n    </tr>\n    <tr>\n      <th>7</th>\n      <td>17642</td>\n      <td>17642</td>\n      <td>Portugal Liga ZON Sagres</td>\n    </tr>\n    <tr>\n      <th>8</th>\n      <td>19694</td>\n      <td>19694</td>\n      <td>Scotland Premier League</td>\n    </tr>\n    <tr>\n      <th>9</th>\n      <td>21518</td>\n      <td>21518</td>\n      <td>Spain LIGA BBVA</td>\n    </tr>\n    <tr>\n      <th>10</th>\n      <td>24558</td>\n      <td>24558</td>\n      <td>Switzerland Super League</td>\n    </tr>\n  </tbody>\n</table>\n</div>"
     },
     "execution_count": 264,
     "metadata": {},
     "output_type": "execute_result"
    }
   ],
   "source": [
    "df_league.sort_values(by='name')"
   ],
   "metadata": {
    "collapsed": false,
    "ExecuteTime": {
     "end_time": "2024-06-01T00:49:25.008212Z",
     "start_time": "2024-06-01T00:49:25.005038Z"
    }
   },
   "id": "ad84cba877e197ff",
   "execution_count": 264
  },
  {
   "cell_type": "markdown",
   "source": [
    "Read 'Match' table"
   ],
   "metadata": {
    "collapsed": false
   },
   "id": "20a4037c156e5b"
  },
  {
   "cell_type": "code",
   "outputs": [
    {
     "data": {
      "text/plain": "   id  country_id  league_id     season  stage                 date  \\\n0   1           1          1  2008/2009      1  2008-08-17 00:00:00   \n1   2           1          1  2008/2009      1  2008-08-16 00:00:00   \n2   3           1          1  2008/2009      1  2008-08-16 00:00:00   \n3   4           1          1  2008/2009      1  2008-08-17 00:00:00   \n4   5           1          1  2008/2009      1  2008-08-16 00:00:00   \n\n   match_api_id  home_team_api_id  away_team_api_id  home_team_goal  ...  \\\n0        492473              9987              9993               1  ...   \n1        492474             10000              9994               0  ...   \n2        492475              9984              8635               0  ...   \n3        492476              9991              9998               5  ...   \n4        492477              7947              9985               1  ...   \n\n    SJA   VCH   VCD   VCA   GBH   GBD   GBA   BSH   BSD   BSA  \n0  4.00  1.65  3.40  4.50  1.78  3.25  4.00  1.73  3.40  4.20  \n1  3.80  2.00  3.25  3.25  1.85  3.25  3.75  1.91  3.25  3.60  \n2  2.50  2.35  3.25  2.65  2.50  3.20  2.50  2.30  3.20  2.75  \n3  7.50  1.45  3.75  6.50  1.50  3.75  5.50  1.44  3.75  6.50  \n4  1.73  4.50  3.40  1.65  4.50  3.50  1.65  4.75  3.30  1.67  \n\n[5 rows x 115 columns]",
      "text/html": "<div>\n<style scoped>\n    .dataframe tbody tr th:only-of-type {\n        vertical-align: middle;\n    }\n\n    .dataframe tbody tr th {\n        vertical-align: top;\n    }\n\n    .dataframe thead th {\n        text-align: right;\n    }\n</style>\n<table border=\"1\" class=\"dataframe\">\n  <thead>\n    <tr style=\"text-align: right;\">\n      <th></th>\n      <th>id</th>\n      <th>country_id</th>\n      <th>league_id</th>\n      <th>season</th>\n      <th>stage</th>\n      <th>date</th>\n      <th>match_api_id</th>\n      <th>home_team_api_id</th>\n      <th>away_team_api_id</th>\n      <th>home_team_goal</th>\n      <th>...</th>\n      <th>SJA</th>\n      <th>VCH</th>\n      <th>VCD</th>\n      <th>VCA</th>\n      <th>GBH</th>\n      <th>GBD</th>\n      <th>GBA</th>\n      <th>BSH</th>\n      <th>BSD</th>\n      <th>BSA</th>\n    </tr>\n  </thead>\n  <tbody>\n    <tr>\n      <th>0</th>\n      <td>1</td>\n      <td>1</td>\n      <td>1</td>\n      <td>2008/2009</td>\n      <td>1</td>\n      <td>2008-08-17 00:00:00</td>\n      <td>492473</td>\n      <td>9987</td>\n      <td>9993</td>\n      <td>1</td>\n      <td>...</td>\n      <td>4.00</td>\n      <td>1.65</td>\n      <td>3.40</td>\n      <td>4.50</td>\n      <td>1.78</td>\n      <td>3.25</td>\n      <td>4.00</td>\n      <td>1.73</td>\n      <td>3.40</td>\n      <td>4.20</td>\n    </tr>\n    <tr>\n      <th>1</th>\n      <td>2</td>\n      <td>1</td>\n      <td>1</td>\n      <td>2008/2009</td>\n      <td>1</td>\n      <td>2008-08-16 00:00:00</td>\n      <td>492474</td>\n      <td>10000</td>\n      <td>9994</td>\n      <td>0</td>\n      <td>...</td>\n      <td>3.80</td>\n      <td>2.00</td>\n      <td>3.25</td>\n      <td>3.25</td>\n      <td>1.85</td>\n      <td>3.25</td>\n      <td>3.75</td>\n      <td>1.91</td>\n      <td>3.25</td>\n      <td>3.60</td>\n    </tr>\n    <tr>\n      <th>2</th>\n      <td>3</td>\n      <td>1</td>\n      <td>1</td>\n      <td>2008/2009</td>\n      <td>1</td>\n      <td>2008-08-16 00:00:00</td>\n      <td>492475</td>\n      <td>9984</td>\n      <td>8635</td>\n      <td>0</td>\n      <td>...</td>\n      <td>2.50</td>\n      <td>2.35</td>\n      <td>3.25</td>\n      <td>2.65</td>\n      <td>2.50</td>\n      <td>3.20</td>\n      <td>2.50</td>\n      <td>2.30</td>\n      <td>3.20</td>\n      <td>2.75</td>\n    </tr>\n    <tr>\n      <th>3</th>\n      <td>4</td>\n      <td>1</td>\n      <td>1</td>\n      <td>2008/2009</td>\n      <td>1</td>\n      <td>2008-08-17 00:00:00</td>\n      <td>492476</td>\n      <td>9991</td>\n      <td>9998</td>\n      <td>5</td>\n      <td>...</td>\n      <td>7.50</td>\n      <td>1.45</td>\n      <td>3.75</td>\n      <td>6.50</td>\n      <td>1.50</td>\n      <td>3.75</td>\n      <td>5.50</td>\n      <td>1.44</td>\n      <td>3.75</td>\n      <td>6.50</td>\n    </tr>\n    <tr>\n      <th>4</th>\n      <td>5</td>\n      <td>1</td>\n      <td>1</td>\n      <td>2008/2009</td>\n      <td>1</td>\n      <td>2008-08-16 00:00:00</td>\n      <td>492477</td>\n      <td>7947</td>\n      <td>9985</td>\n      <td>1</td>\n      <td>...</td>\n      <td>1.73</td>\n      <td>4.50</td>\n      <td>3.40</td>\n      <td>1.65</td>\n      <td>4.50</td>\n      <td>3.50</td>\n      <td>1.65</td>\n      <td>4.75</td>\n      <td>3.30</td>\n      <td>1.67</td>\n    </tr>\n  </tbody>\n</table>\n<p>5 rows × 115 columns</p>\n</div>"
     },
     "execution_count": 265,
     "metadata": {},
     "output_type": "execute_result"
    }
   ],
   "source": [
    "df_match.head()"
   ],
   "metadata": {
    "collapsed": false,
    "ExecuteTime": {
     "end_time": "2024-06-01T00:49:25.028431Z",
     "start_time": "2024-06-01T00:49:25.021316Z"
    }
   },
   "id": "da032098c245f235",
   "execution_count": 265
  },
  {
   "cell_type": "markdown",
   "source": [
    "Read 'Country' table"
   ],
   "metadata": {
    "collapsed": false
   },
   "id": "f502115684743207"
  },
  {
   "cell_type": "code",
   "outputs": [
    {
     "data": {
      "text/plain": "      id     name\n0      1  Belgium\n1   1729  England\n2   4769   France\n3   7809  Germany\n4  10257    Italy",
      "text/html": "<div>\n<style scoped>\n    .dataframe tbody tr th:only-of-type {\n        vertical-align: middle;\n    }\n\n    .dataframe tbody tr th {\n        vertical-align: top;\n    }\n\n    .dataframe thead th {\n        text-align: right;\n    }\n</style>\n<table border=\"1\" class=\"dataframe\">\n  <thead>\n    <tr style=\"text-align: right;\">\n      <th></th>\n      <th>id</th>\n      <th>name</th>\n    </tr>\n  </thead>\n  <tbody>\n    <tr>\n      <th>0</th>\n      <td>1</td>\n      <td>Belgium</td>\n    </tr>\n    <tr>\n      <th>1</th>\n      <td>1729</td>\n      <td>England</td>\n    </tr>\n    <tr>\n      <th>2</th>\n      <td>4769</td>\n      <td>France</td>\n    </tr>\n    <tr>\n      <th>3</th>\n      <td>7809</td>\n      <td>Germany</td>\n    </tr>\n    <tr>\n      <th>4</th>\n      <td>10257</td>\n      <td>Italy</td>\n    </tr>\n  </tbody>\n</table>\n</div>"
     },
     "execution_count": 266,
     "metadata": {},
     "output_type": "execute_result"
    }
   ],
   "source": [
    "df_country.head()"
   ],
   "metadata": {
    "collapsed": false,
    "ExecuteTime": {
     "end_time": "2024-06-01T00:49:25.055050Z",
     "start_time": "2024-06-01T00:49:25.051790Z"
    }
   },
   "id": "dfa6312a755250df",
   "execution_count": 266
  },
  {
   "cell_type": "markdown",
   "source": [
    "Read 'Team' table"
   ],
   "metadata": {
    "collapsed": false
   },
   "id": "6f5d0409504d1c7a"
  },
  {
   "cell_type": "code",
   "outputs": [
    {
     "data": {
      "text/plain": "   id  team_api_id  team_fifa_api_id     team_long_name team_short_name\n0   1         9987             673.0           KRC Genk             GEN\n1   2         9993             675.0       Beerschot AC             BAC\n2   3        10000           15005.0   SV Zulte-Waregem             ZUL\n3   4         9994            2007.0   Sporting Lokeren             LOK\n4   5         9984            1750.0  KSV Cercle Brugge             CEB",
      "text/html": "<div>\n<style scoped>\n    .dataframe tbody tr th:only-of-type {\n        vertical-align: middle;\n    }\n\n    .dataframe tbody tr th {\n        vertical-align: top;\n    }\n\n    .dataframe thead th {\n        text-align: right;\n    }\n</style>\n<table border=\"1\" class=\"dataframe\">\n  <thead>\n    <tr style=\"text-align: right;\">\n      <th></th>\n      <th>id</th>\n      <th>team_api_id</th>\n      <th>team_fifa_api_id</th>\n      <th>team_long_name</th>\n      <th>team_short_name</th>\n    </tr>\n  </thead>\n  <tbody>\n    <tr>\n      <th>0</th>\n      <td>1</td>\n      <td>9987</td>\n      <td>673.0</td>\n      <td>KRC Genk</td>\n      <td>GEN</td>\n    </tr>\n    <tr>\n      <th>1</th>\n      <td>2</td>\n      <td>9993</td>\n      <td>675.0</td>\n      <td>Beerschot AC</td>\n      <td>BAC</td>\n    </tr>\n    <tr>\n      <th>2</th>\n      <td>3</td>\n      <td>10000</td>\n      <td>15005.0</td>\n      <td>SV Zulte-Waregem</td>\n      <td>ZUL</td>\n    </tr>\n    <tr>\n      <th>3</th>\n      <td>4</td>\n      <td>9994</td>\n      <td>2007.0</td>\n      <td>Sporting Lokeren</td>\n      <td>LOK</td>\n    </tr>\n    <tr>\n      <th>4</th>\n      <td>5</td>\n      <td>9984</td>\n      <td>1750.0</td>\n      <td>KSV Cercle Brugge</td>\n      <td>CEB</td>\n    </tr>\n  </tbody>\n</table>\n</div>"
     },
     "execution_count": 267,
     "metadata": {},
     "output_type": "execute_result"
    }
   ],
   "source": [
    "df_team.head()"
   ],
   "metadata": {
    "collapsed": false,
    "ExecuteTime": {
     "end_time": "2024-06-01T00:49:25.090435Z",
     "start_time": "2024-06-01T00:49:25.086644Z"
    }
   },
   "id": "daae78f0bf4920b5",
   "execution_count": 267
  },
  {
   "cell_type": "markdown",
   "source": [
    "Table with all match results"
   ],
   "metadata": {
    "collapsed": false
   },
   "id": "c59e42ea50c68f3c"
  },
  {
   "cell_type": "code",
   "outputs": [
    {
     "ename": "DatabaseError",
     "evalue": "Execution failed on sql 'SELECT Match.id, League.name as league_name, Country.name as country_name, season, stage, date, HT.team_long_name AS home_team, AT.team_long_name as away_team, home_team_goal, away_team_goal FROM Match JOIN League ON League.id = Match.league_id JOIN Country ON Country.id = Match.country_id LEFT JOIN Team AS HT ON HT.team_api_id = Match.home_team_api_id LEFT JOIN Team AS AT on AT.team_api_id = Match.away_team_api_id': file is not a database",
     "output_type": "error",
     "traceback": [
      "\u001B[0;31m---------------------------------------------------------------------------\u001B[0m",
      "\u001B[0;31mDatabaseError\u001B[0m                             Traceback (most recent call last)",
      "File \u001B[0;32m~/PycharmProjects/pandasProject/.venv/lib/python3.12/site-packages/pandas/io/sql.py:2674\u001B[0m, in \u001B[0;36mSQLiteDatabase.execute\u001B[0;34m(self, sql, params)\u001B[0m\n\u001B[1;32m   2673\u001B[0m \u001B[38;5;28;01mtry\u001B[39;00m:\n\u001B[0;32m-> 2674\u001B[0m     \u001B[43mcur\u001B[49m\u001B[38;5;241;43m.\u001B[39;49m\u001B[43mexecute\u001B[49m\u001B[43m(\u001B[49m\u001B[43msql\u001B[49m\u001B[43m,\u001B[49m\u001B[43m \u001B[49m\u001B[38;5;241;43m*\u001B[39;49m\u001B[43margs\u001B[49m\u001B[43m)\u001B[49m\n\u001B[1;32m   2675\u001B[0m     \u001B[38;5;28;01mreturn\u001B[39;00m cur\n",
      "\u001B[0;31mDatabaseError\u001B[0m: file is not a database",
      "\nThe above exception was the direct cause of the following exception:\n",
      "\u001B[0;31mDatabaseError\u001B[0m                             Traceback (most recent call last)",
      "Cell \u001B[0;32mIn[268], line 2\u001B[0m\n\u001B[1;32m      1\u001B[0m all_tables_query \u001B[38;5;241m=\u001B[39m \u001B[38;5;124m\"\u001B[39m\u001B[38;5;124mSELECT Match.id, League.name as league_name, Country.name as country_name, season, stage, date, HT.team_long_name AS home_team, AT.team_long_name as away_team, home_team_goal, away_team_goal FROM Match JOIN League ON League.id = Match.league_id JOIN Country ON Country.id = Match.country_id LEFT JOIN Team AS HT ON HT.team_api_id = Match.home_team_api_id LEFT JOIN Team AS AT on AT.team_api_id = Match.away_team_api_id\u001B[39m\u001B[38;5;124m\"\u001B[39m\n\u001B[0;32m----> 2\u001B[0m df_matches \u001B[38;5;241m=\u001B[39m \u001B[43mpd\u001B[49m\u001B[38;5;241;43m.\u001B[39;49m\u001B[43mread_sql_query\u001B[49m\u001B[43m(\u001B[49m\u001B[43mall_tables_query\u001B[49m\u001B[43m,\u001B[49m\u001B[43m \u001B[49m\u001B[43mconnection\u001B[49m\u001B[43m)\u001B[49m\n\u001B[1;32m      3\u001B[0m df_matches\u001B[38;5;241m.\u001B[39mhead()\n",
      "File \u001B[0;32m~/PycharmProjects/pandasProject/.venv/lib/python3.12/site-packages/pandas/io/sql.py:526\u001B[0m, in \u001B[0;36mread_sql_query\u001B[0;34m(sql, con, index_col, coerce_float, params, parse_dates, chunksize, dtype, dtype_backend)\u001B[0m\n\u001B[1;32m    523\u001B[0m \u001B[38;5;28;01massert\u001B[39;00m dtype_backend \u001B[38;5;129;01mis\u001B[39;00m \u001B[38;5;129;01mnot\u001B[39;00m lib\u001B[38;5;241m.\u001B[39mno_default\n\u001B[1;32m    525\u001B[0m \u001B[38;5;28;01mwith\u001B[39;00m pandasSQL_builder(con) \u001B[38;5;28;01mas\u001B[39;00m pandas_sql:\n\u001B[0;32m--> 526\u001B[0m     \u001B[38;5;28;01mreturn\u001B[39;00m \u001B[43mpandas_sql\u001B[49m\u001B[38;5;241;43m.\u001B[39;49m\u001B[43mread_query\u001B[49m\u001B[43m(\u001B[49m\n\u001B[1;32m    527\u001B[0m \u001B[43m        \u001B[49m\u001B[43msql\u001B[49m\u001B[43m,\u001B[49m\n\u001B[1;32m    528\u001B[0m \u001B[43m        \u001B[49m\u001B[43mindex_col\u001B[49m\u001B[38;5;241;43m=\u001B[39;49m\u001B[43mindex_col\u001B[49m\u001B[43m,\u001B[49m\n\u001B[1;32m    529\u001B[0m \u001B[43m        \u001B[49m\u001B[43mparams\u001B[49m\u001B[38;5;241;43m=\u001B[39;49m\u001B[43mparams\u001B[49m\u001B[43m,\u001B[49m\n\u001B[1;32m    530\u001B[0m \u001B[43m        \u001B[49m\u001B[43mcoerce_float\u001B[49m\u001B[38;5;241;43m=\u001B[39;49m\u001B[43mcoerce_float\u001B[49m\u001B[43m,\u001B[49m\n\u001B[1;32m    531\u001B[0m \u001B[43m        \u001B[49m\u001B[43mparse_dates\u001B[49m\u001B[38;5;241;43m=\u001B[39;49m\u001B[43mparse_dates\u001B[49m\u001B[43m,\u001B[49m\n\u001B[1;32m    532\u001B[0m \u001B[43m        \u001B[49m\u001B[43mchunksize\u001B[49m\u001B[38;5;241;43m=\u001B[39;49m\u001B[43mchunksize\u001B[49m\u001B[43m,\u001B[49m\n\u001B[1;32m    533\u001B[0m \u001B[43m        \u001B[49m\u001B[43mdtype\u001B[49m\u001B[38;5;241;43m=\u001B[39;49m\u001B[43mdtype\u001B[49m\u001B[43m,\u001B[49m\n\u001B[1;32m    534\u001B[0m \u001B[43m        \u001B[49m\u001B[43mdtype_backend\u001B[49m\u001B[38;5;241;43m=\u001B[39;49m\u001B[43mdtype_backend\u001B[49m\u001B[43m,\u001B[49m\n\u001B[1;32m    535\u001B[0m \u001B[43m    \u001B[49m\u001B[43m)\u001B[49m\n",
      "File \u001B[0;32m~/PycharmProjects/pandasProject/.venv/lib/python3.12/site-packages/pandas/io/sql.py:2738\u001B[0m, in \u001B[0;36mSQLiteDatabase.read_query\u001B[0;34m(self, sql, index_col, coerce_float, parse_dates, params, chunksize, dtype, dtype_backend)\u001B[0m\n\u001B[1;32m   2727\u001B[0m \u001B[38;5;28;01mdef\u001B[39;00m \u001B[38;5;21mread_query\u001B[39m(\n\u001B[1;32m   2728\u001B[0m     \u001B[38;5;28mself\u001B[39m,\n\u001B[1;32m   2729\u001B[0m     sql,\n\u001B[0;32m   (...)\u001B[0m\n\u001B[1;32m   2736\u001B[0m     dtype_backend: DtypeBackend \u001B[38;5;241m|\u001B[39m Literal[\u001B[38;5;124m\"\u001B[39m\u001B[38;5;124mnumpy\u001B[39m\u001B[38;5;124m\"\u001B[39m] \u001B[38;5;241m=\u001B[39m \u001B[38;5;124m\"\u001B[39m\u001B[38;5;124mnumpy\u001B[39m\u001B[38;5;124m\"\u001B[39m,\n\u001B[1;32m   2737\u001B[0m ) \u001B[38;5;241m-\u001B[39m\u001B[38;5;241m>\u001B[39m DataFrame \u001B[38;5;241m|\u001B[39m Iterator[DataFrame]:\n\u001B[0;32m-> 2738\u001B[0m     cursor \u001B[38;5;241m=\u001B[39m \u001B[38;5;28;43mself\u001B[39;49m\u001B[38;5;241;43m.\u001B[39;49m\u001B[43mexecute\u001B[49m\u001B[43m(\u001B[49m\u001B[43msql\u001B[49m\u001B[43m,\u001B[49m\u001B[43m \u001B[49m\u001B[43mparams\u001B[49m\u001B[43m)\u001B[49m\n\u001B[1;32m   2739\u001B[0m     columns \u001B[38;5;241m=\u001B[39m [col_desc[\u001B[38;5;241m0\u001B[39m] \u001B[38;5;28;01mfor\u001B[39;00m col_desc \u001B[38;5;129;01min\u001B[39;00m cursor\u001B[38;5;241m.\u001B[39mdescription]\n\u001B[1;32m   2741\u001B[0m     \u001B[38;5;28;01mif\u001B[39;00m chunksize \u001B[38;5;129;01mis\u001B[39;00m \u001B[38;5;129;01mnot\u001B[39;00m \u001B[38;5;28;01mNone\u001B[39;00m:\n",
      "File \u001B[0;32m~/PycharmProjects/pandasProject/.venv/lib/python3.12/site-packages/pandas/io/sql.py:2686\u001B[0m, in \u001B[0;36mSQLiteDatabase.execute\u001B[0;34m(self, sql, params)\u001B[0m\n\u001B[1;32m   2683\u001B[0m     \u001B[38;5;28;01mraise\u001B[39;00m ex \u001B[38;5;28;01mfrom\u001B[39;00m \u001B[38;5;21;01minner_exc\u001B[39;00m\n\u001B[1;32m   2685\u001B[0m ex \u001B[38;5;241m=\u001B[39m DatabaseError(\u001B[38;5;124mf\u001B[39m\u001B[38;5;124m\"\u001B[39m\u001B[38;5;124mExecution failed on sql \u001B[39m\u001B[38;5;124m'\u001B[39m\u001B[38;5;132;01m{\u001B[39;00msql\u001B[38;5;132;01m}\u001B[39;00m\u001B[38;5;124m'\u001B[39m\u001B[38;5;124m: \u001B[39m\u001B[38;5;132;01m{\u001B[39;00mexc\u001B[38;5;132;01m}\u001B[39;00m\u001B[38;5;124m\"\u001B[39m)\n\u001B[0;32m-> 2686\u001B[0m \u001B[38;5;28;01mraise\u001B[39;00m ex \u001B[38;5;28;01mfrom\u001B[39;00m \u001B[38;5;21;01mexc\u001B[39;00m\n",
      "\u001B[0;31mDatabaseError\u001B[0m: Execution failed on sql 'SELECT Match.id, League.name as league_name, Country.name as country_name, season, stage, date, HT.team_long_name AS home_team, AT.team_long_name as away_team, home_team_goal, away_team_goal FROM Match JOIN League ON League.id = Match.league_id JOIN Country ON Country.id = Match.country_id LEFT JOIN Team AS HT ON HT.team_api_id = Match.home_team_api_id LEFT JOIN Team AS AT on AT.team_api_id = Match.away_team_api_id': file is not a database"
     ]
    }
   ],
   "source": [
    "all_tables_query = \"SELECT Match.id, League.name as league_name, Country.name as country_name, season, stage, date, HT.team_long_name AS home_team, AT.team_long_name as away_team, home_team_goal, away_team_goal FROM Match JOIN League ON League.id = Match.league_id JOIN Country ON Country.id = Match.country_id LEFT JOIN Team AS HT ON HT.team_api_id = Match.home_team_api_id LEFT JOIN Team AS AT on AT.team_api_id = Match.away_team_api_id\"\n",
    "df_matches = pd.read_sql_query(all_tables_query, connection)\n",
    "df_matches.head()"
   ],
   "metadata": {
    "collapsed": false,
    "ExecuteTime": {
     "end_time": "2024-06-01T00:49:25.143590Z",
     "start_time": "2024-06-01T00:49:25.120913Z"
    }
   },
   "id": "2c2ec39475df700c",
   "execution_count": 268
  },
  {
   "cell_type": "markdown",
   "source": [
    "Select matches with most goals"
   ],
   "metadata": {
    "collapsed": false
   },
   "id": "15d1a8ff65508f16"
  },
  {
   "cell_type": "code",
   "outputs": [
    {
     "data": {
      "text/plain": "          id              league_name country_name     season  stage  \\\n20106  20107  Scotland Premier League     Scotland  2009/2010     37   \n24247  24248          Spain LIGA BBVA        Spain  2015/2016     16   \n9210    9211    Germany 1. Bundesliga      Germany  2012/2013     27   \n3092    3093   England Premier League      England  2011/2012      3   \n3368    3369   England Premier League      England  2012/2013     20   \n\n                      date          home_team         away_team  \\\n20106  2010-05-05 00:00:00         Motherwell         Hibernian   \n24247  2015-12-20 00:00:00     Real Madrid CF    Rayo Vallecano   \n9210   2013-03-30 00:00:00   FC Bayern Munich      Hamburger SV   \n3092   2011-08-28 00:00:00  Manchester United           Arsenal   \n3368   2012-12-29 00:00:00            Arsenal  Newcastle United   \n\n       home_team_goal  away_team_goal  total_goals  \n20106               6               6           12  \n24247              10               2           12  \n9210                9               2           11  \n3092                8               2           10  \n3368                7               3           10  ",
      "text/html": "<div>\n<style scoped>\n    .dataframe tbody tr th:only-of-type {\n        vertical-align: middle;\n    }\n\n    .dataframe tbody tr th {\n        vertical-align: top;\n    }\n\n    .dataframe thead th {\n        text-align: right;\n    }\n</style>\n<table border=\"1\" class=\"dataframe\">\n  <thead>\n    <tr style=\"text-align: right;\">\n      <th></th>\n      <th>id</th>\n      <th>league_name</th>\n      <th>country_name</th>\n      <th>season</th>\n      <th>stage</th>\n      <th>date</th>\n      <th>home_team</th>\n      <th>away_team</th>\n      <th>home_team_goal</th>\n      <th>away_team_goal</th>\n      <th>total_goals</th>\n    </tr>\n  </thead>\n  <tbody>\n    <tr>\n      <th>20106</th>\n      <td>20107</td>\n      <td>Scotland Premier League</td>\n      <td>Scotland</td>\n      <td>2009/2010</td>\n      <td>37</td>\n      <td>2010-05-05 00:00:00</td>\n      <td>Motherwell</td>\n      <td>Hibernian</td>\n      <td>6</td>\n      <td>6</td>\n      <td>12</td>\n    </tr>\n    <tr>\n      <th>24247</th>\n      <td>24248</td>\n      <td>Spain LIGA BBVA</td>\n      <td>Spain</td>\n      <td>2015/2016</td>\n      <td>16</td>\n      <td>2015-12-20 00:00:00</td>\n      <td>Real Madrid CF</td>\n      <td>Rayo Vallecano</td>\n      <td>10</td>\n      <td>2</td>\n      <td>12</td>\n    </tr>\n    <tr>\n      <th>9210</th>\n      <td>9211</td>\n      <td>Germany 1. Bundesliga</td>\n      <td>Germany</td>\n      <td>2012/2013</td>\n      <td>27</td>\n      <td>2013-03-30 00:00:00</td>\n      <td>FC Bayern Munich</td>\n      <td>Hamburger SV</td>\n      <td>9</td>\n      <td>2</td>\n      <td>11</td>\n    </tr>\n    <tr>\n      <th>3092</th>\n      <td>3093</td>\n      <td>England Premier League</td>\n      <td>England</td>\n      <td>2011/2012</td>\n      <td>3</td>\n      <td>2011-08-28 00:00:00</td>\n      <td>Manchester United</td>\n      <td>Arsenal</td>\n      <td>8</td>\n      <td>2</td>\n      <td>10</td>\n    </tr>\n    <tr>\n      <th>3368</th>\n      <td>3369</td>\n      <td>England Premier League</td>\n      <td>England</td>\n      <td>2012/2013</td>\n      <td>20</td>\n      <td>2012-12-29 00:00:00</td>\n      <td>Arsenal</td>\n      <td>Newcastle United</td>\n      <td>7</td>\n      <td>3</td>\n      <td>10</td>\n    </tr>\n  </tbody>\n</table>\n</div>"
     },
     "execution_count": 269,
     "metadata": {},
     "output_type": "execute_result"
    }
   ],
   "source": [
    "df_matches['total_goals'] = df_matches['home_team_goal'] + df_matches['away_team_goal']\n",
    "df_matches_most_goals = df_matches.sort_values(by='total_goals', ascending=False)\n",
    "df_matches_most_goals.head()"
   ],
   "metadata": {
    "collapsed": false,
    "ExecuteTime": {
     "end_time": "2024-06-01T00:49:25.186743Z",
     "start_time": "2024-06-01T00:49:25.179520Z"
    }
   },
   "id": "6ab02b6f62ae9fe7",
   "execution_count": 269
  },
  {
   "cell_type": "markdown",
   "source": [
    "Select matches with most common total goals"
   ],
   "metadata": {
    "collapsed": false
   },
   "id": "2138329f27b59ae"
  },
  {
   "cell_type": "code",
   "outputs": [
    {
     "data": {
      "text/plain": "total_goals\n2     6351\n3     5500\n1     4506\n4     4015\n5     2068\n0     1978\n6     1009\n7      360\n8      142\n9       36\n10      11\n12       2\n11       1\nName: count, dtype: int64"
     },
     "execution_count": 270,
     "metadata": {},
     "output_type": "execute_result"
    }
   ],
   "source": [
    "matches_total_goals = df_matches['total_goals'].value_counts()\n",
    "matches_total_goals"
   ],
   "metadata": {
    "collapsed": false,
    "ExecuteTime": {
     "end_time": "2024-06-01T00:49:25.236228Z",
     "start_time": "2024-06-01T00:49:25.233394Z"
    }
   },
   "id": "c6196d978176f2af",
   "execution_count": 270
  },
  {
   "cell_type": "markdown",
   "source": [
    "Chart: Most common total goals in match"
   ],
   "metadata": {
    "collapsed": false
   },
   "id": "ee815d1d0e59f167"
  },
  {
   "cell_type": "code",
   "outputs": [
    {
     "data": {
      "text/plain": "<Figure size 1400x700 with 1 Axes>",
      "image/png": "[encoded data removed]"
     },
     "metadata": {},
     "output_type": "display_data"
    }
   ],
   "source": [
    "matches_total_goals.sort_values(ascending = False).plot(kind = 'bar', figsize = (14, 7), title = 'Most common total goals in match')\n",
    "mpl.ylabel('Times')\n",
    "mpl.xlabel('Goals')\n",
    "mpl.show()"
   ],
   "metadata": {
    "collapsed": false,
    "ExecuteTime": {
     "end_time": "2024-06-01T00:49:25.407129Z",
     "start_time": "2024-06-01T00:49:25.316625Z"
    }
   },
   "id": "a707c637709e95f9",
   "execution_count": 271
  },
  {
   "cell_type": "markdown",
   "source": [
    "Select teams with league and country"
   ],
   "metadata": {
    "collapsed": false
   },
   "id": "410fe65cb953963f"
  },
  {
   "cell_type": "code",
   "outputs": [
    {
     "ename": "DatabaseError",
     "evalue": "Execution failed on sql 'SELECT team.team_long_name AS team_name, league.name AS league_name, country.name AS country_name FROM league JOIN match ON league.id = match.league_id JOIN team ON match.home_team_api_id = team.team_api_id JOIN country on match.country_id = country.Id GROUP BY league.name, team.team_long_name': file is not a database",
     "output_type": "error",
     "traceback": [
      "\u001B[0;31m---------------------------------------------------------------------------\u001B[0m",
      "\u001B[0;31mDatabaseError\u001B[0m                             Traceback (most recent call last)",
      "File \u001B[0;32m~/PycharmProjects/pandasProject/.venv/lib/python3.12/site-packages/pandas/io/sql.py:2674\u001B[0m, in \u001B[0;36mSQLiteDatabase.execute\u001B[0;34m(self, sql, params)\u001B[0m\n\u001B[1;32m   2673\u001B[0m \u001B[38;5;28;01mtry\u001B[39;00m:\n\u001B[0;32m-> 2674\u001B[0m     \u001B[43mcur\u001B[49m\u001B[38;5;241;43m.\u001B[39;49m\u001B[43mexecute\u001B[49m\u001B[43m(\u001B[49m\u001B[43msql\u001B[49m\u001B[43m,\u001B[49m\u001B[43m \u001B[49m\u001B[38;5;241;43m*\u001B[39;49m\u001B[43margs\u001B[49m\u001B[43m)\u001B[49m\n\u001B[1;32m   2675\u001B[0m     \u001B[38;5;28;01mreturn\u001B[39;00m cur\n",
      "\u001B[0;31mDatabaseError\u001B[0m: file is not a database",
      "\nThe above exception was the direct cause of the following exception:\n",
      "\u001B[0;31mDatabaseError\u001B[0m                             Traceback (most recent call last)",
      "Cell \u001B[0;32mIn[272], line 2\u001B[0m\n\u001B[1;32m      1\u001B[0m all_teams_query \u001B[38;5;241m=\u001B[39m \u001B[38;5;124m\"\u001B[39m\u001B[38;5;124mSELECT team.team_long_name AS team_name, league.name AS league_name, country.name AS country_name FROM league JOIN match ON league.id = match.league_id JOIN team ON match.home_team_api_id = team.team_api_id JOIN country on match.country_id = country.Id GROUP BY league.name, team.team_long_name\u001B[39m\u001B[38;5;124m\"\u001B[39m\n\u001B[0;32m----> 2\u001B[0m df_teams \u001B[38;5;241m=\u001B[39m \u001B[43mpd\u001B[49m\u001B[38;5;241;43m.\u001B[39;49m\u001B[43mread_sql_query\u001B[49m\u001B[43m(\u001B[49m\u001B[43mall_teams_query\u001B[49m\u001B[43m,\u001B[49m\u001B[43m \u001B[49m\u001B[43mconnection\u001B[49m\u001B[43m)\u001B[49m\n\u001B[1;32m      3\u001B[0m df_teams\u001B[38;5;241m.\u001B[39mhead()\n",
      "File \u001B[0;32m~/PycharmProjects/pandasProject/.venv/lib/python3.12/site-packages/pandas/io/sql.py:526\u001B[0m, in \u001B[0;36mread_sql_query\u001B[0;34m(sql, con, index_col, coerce_float, params, parse_dates, chunksize, dtype, dtype_backend)\u001B[0m\n\u001B[1;32m    523\u001B[0m \u001B[38;5;28;01massert\u001B[39;00m dtype_backend \u001B[38;5;129;01mis\u001B[39;00m \u001B[38;5;129;01mnot\u001B[39;00m lib\u001B[38;5;241m.\u001B[39mno_default\n\u001B[1;32m    525\u001B[0m \u001B[38;5;28;01mwith\u001B[39;00m pandasSQL_builder(con) \u001B[38;5;28;01mas\u001B[39;00m pandas_sql:\n\u001B[0;32m--> 526\u001B[0m     \u001B[38;5;28;01mreturn\u001B[39;00m \u001B[43mpandas_sql\u001B[49m\u001B[38;5;241;43m.\u001B[39;49m\u001B[43mread_query\u001B[49m\u001B[43m(\u001B[49m\n\u001B[1;32m    527\u001B[0m \u001B[43m        \u001B[49m\u001B[43msql\u001B[49m\u001B[43m,\u001B[49m\n\u001B[1;32m    528\u001B[0m \u001B[43m        \u001B[49m\u001B[43mindex_col\u001B[49m\u001B[38;5;241;43m=\u001B[39;49m\u001B[43mindex_col\u001B[49m\u001B[43m,\u001B[49m\n\u001B[1;32m    529\u001B[0m \u001B[43m        \u001B[49m\u001B[43mparams\u001B[49m\u001B[38;5;241;43m=\u001B[39;49m\u001B[43mparams\u001B[49m\u001B[43m,\u001B[49m\n\u001B[1;32m    530\u001B[0m \u001B[43m        \u001B[49m\u001B[43mcoerce_float\u001B[49m\u001B[38;5;241;43m=\u001B[39;49m\u001B[43mcoerce_float\u001B[49m\u001B[43m,\u001B[49m\n\u001B[1;32m    531\u001B[0m \u001B[43m        \u001B[49m\u001B[43mparse_dates\u001B[49m\u001B[38;5;241;43m=\u001B[39;49m\u001B[43mparse_dates\u001B[49m\u001B[43m,\u001B[49m\n\u001B[1;32m    532\u001B[0m \u001B[43m        \u001B[49m\u001B[43mchunksize\u001B[49m\u001B[38;5;241;43m=\u001B[39;49m\u001B[43mchunksize\u001B[49m\u001B[43m,\u001B[49m\n\u001B[1;32m    533\u001B[0m \u001B[43m        \u001B[49m\u001B[43mdtype\u001B[49m\u001B[38;5;241;43m=\u001B[39;49m\u001B[43mdtype\u001B[49m\u001B[43m,\u001B[49m\n\u001B[1;32m    534\u001B[0m \u001B[43m        \u001B[49m\u001B[43mdtype_backend\u001B[49m\u001B[38;5;241;43m=\u001B[39;49m\u001B[43mdtype_backend\u001B[49m\u001B[43m,\u001B[49m\n\u001B[1;32m    535\u001B[0m \u001B[43m    \u001B[49m\u001B[43m)\u001B[49m\n",
      "File \u001B[0;32m~/PycharmProjects/pandasProject/.venv/lib/python3.12/site-packages/pandas/io/sql.py:2738\u001B[0m, in \u001B[0;36mSQLiteDatabase.read_query\u001B[0;34m(self, sql, index_col, coerce_float, parse_dates, params, chunksize, dtype, dtype_backend)\u001B[0m\n\u001B[1;32m   2727\u001B[0m \u001B[38;5;28;01mdef\u001B[39;00m \u001B[38;5;21mread_query\u001B[39m(\n\u001B[1;32m   2728\u001B[0m     \u001B[38;5;28mself\u001B[39m,\n\u001B[1;32m   2729\u001B[0m     sql,\n\u001B[0;32m   (...)\u001B[0m\n\u001B[1;32m   2736\u001B[0m     dtype_backend: DtypeBackend \u001B[38;5;241m|\u001B[39m Literal[\u001B[38;5;124m\"\u001B[39m\u001B[38;5;124mnumpy\u001B[39m\u001B[38;5;124m\"\u001B[39m] \u001B[38;5;241m=\u001B[39m \u001B[38;5;124m\"\u001B[39m\u001B[38;5;124mnumpy\u001B[39m\u001B[38;5;124m\"\u001B[39m,\n\u001B[1;32m   2737\u001B[0m ) \u001B[38;5;241m-\u001B[39m\u001B[38;5;241m>\u001B[39m DataFrame \u001B[38;5;241m|\u001B[39m Iterator[DataFrame]:\n\u001B[0;32m-> 2738\u001B[0m     cursor \u001B[38;5;241m=\u001B[39m \u001B[38;5;28;43mself\u001B[39;49m\u001B[38;5;241;43m.\u001B[39;49m\u001B[43mexecute\u001B[49m\u001B[43m(\u001B[49m\u001B[43msql\u001B[49m\u001B[43m,\u001B[49m\u001B[43m \u001B[49m\u001B[43mparams\u001B[49m\u001B[43m)\u001B[49m\n\u001B[1;32m   2739\u001B[0m     columns \u001B[38;5;241m=\u001B[39m [col_desc[\u001B[38;5;241m0\u001B[39m] \u001B[38;5;28;01mfor\u001B[39;00m col_desc \u001B[38;5;129;01min\u001B[39;00m cursor\u001B[38;5;241m.\u001B[39mdescription]\n\u001B[1;32m   2741\u001B[0m     \u001B[38;5;28;01mif\u001B[39;00m chunksize \u001B[38;5;129;01mis\u001B[39;00m \u001B[38;5;129;01mnot\u001B[39;00m \u001B[38;5;28;01mNone\u001B[39;00m:\n",
      "File \u001B[0;32m~/PycharmProjects/pandasProject/.venv/lib/python3.12/site-packages/pandas/io/sql.py:2686\u001B[0m, in \u001B[0;36mSQLiteDatabase.execute\u001B[0;34m(self, sql, params)\u001B[0m\n\u001B[1;32m   2683\u001B[0m     \u001B[38;5;28;01mraise\u001B[39;00m ex \u001B[38;5;28;01mfrom\u001B[39;00m \u001B[38;5;21;01minner_exc\u001B[39;00m\n\u001B[1;32m   2685\u001B[0m ex \u001B[38;5;241m=\u001B[39m DatabaseError(\u001B[38;5;124mf\u001B[39m\u001B[38;5;124m\"\u001B[39m\u001B[38;5;124mExecution failed on sql \u001B[39m\u001B[38;5;124m'\u001B[39m\u001B[38;5;132;01m{\u001B[39;00msql\u001B[38;5;132;01m}\u001B[39;00m\u001B[38;5;124m'\u001B[39m\u001B[38;5;124m: \u001B[39m\u001B[38;5;132;01m{\u001B[39;00mexc\u001B[38;5;132;01m}\u001B[39;00m\u001B[38;5;124m\"\u001B[39m)\n\u001B[0;32m-> 2686\u001B[0m \u001B[38;5;28;01mraise\u001B[39;00m ex \u001B[38;5;28;01mfrom\u001B[39;00m \u001B[38;5;21;01mexc\u001B[39;00m\n",
      "\u001B[0;31mDatabaseError\u001B[0m: Execution failed on sql 'SELECT team.team_long_name AS team_name, league.name AS league_name, country.name AS country_name FROM league JOIN match ON league.id = match.league_id JOIN team ON match.home_team_api_id = team.team_api_id JOIN country on match.country_id = country.Id GROUP BY league.name, team.team_long_name': file is not a database"
     ]
    }
   ],
   "source": [
    "all_teams_query = \"SELECT team.team_long_name AS team_name, league.name AS league_name, country.name AS country_name FROM league JOIN match ON league.id = match.league_id JOIN team ON match.home_team_api_id = team.team_api_id JOIN country on match.country_id = country.Id GROUP BY league.name, team.team_long_name\"\n",
    "df_teams = pd.read_sql_query(all_teams_query, connection)\n",
    "df_teams.head()"
   ],
   "metadata": {
    "collapsed": false,
    "ExecuteTime": {
     "end_time": "2024-06-01T00:49:25.430854Z",
     "start_time": "2024-06-01T00:49:25.408219Z"
    }
   },
   "id": "c96c7efdfdeb68f5",
   "execution_count": 272
  },
  {
   "cell_type": "markdown",
   "source": [
    "Select leagues with most total clubs"
   ],
   "metadata": {
    "collapsed": false
   },
   "id": "9efc7eedfe1bf787"
  },
  {
   "cell_type": "code",
   "outputs": [],
   "source": [
    "league_teams = df_teams['league_name'].value_counts()\n",
    "league_teams"
   ],
   "metadata": {
    "collapsed": false
   },
   "id": "62cbb5bb2f0efc46",
   "execution_count": null
  },
  {
   "cell_type": "markdown",
   "source": [
    "Chart: Leagues with most different teams"
   ],
   "metadata": {
    "collapsed": false
   },
   "id": "afc861209e0882db"
  },
  {
   "cell_type": "code",
   "outputs": [],
   "source": [
    "league_teams.sort_values(ascending = False).plot(kind = 'barh', figsize = (14, 7), title = 'Leagues with most different teams')\n",
    "mpl.ylabel('League')\n",
    "mpl.xlabel('Teams')\n",
    "mpl.gca().invert_yaxis()\n",
    "mpl.show()"
   ],
   "metadata": {
    "collapsed": false
   },
   "id": "269923ca07190c53",
   "execution_count": null
  },
  {
   "cell_type": "markdown",
   "source": [
    "Select data about all seasons from top 5 leagues"
   ],
   "metadata": {
    "collapsed": false
   },
   "id": "55844faba1f3a13c"
  },
  {
   "cell_type": "code",
   "outputs": [],
   "source": [
    "all_seasons_query = \"SELECT country.name AS country_name, league.name AS league_name, season, count(distinct stage) AS number_of_stages, count(distinct HT.team_long_name) AS number_of_teams, avg(home_team_goal) AS avg_home_team_scores, avg(away_team_goal) AS avg_away_team_goals, avg(home_team_goal-away_team_goal) AS avg_goal_dif, avg(home_team_goal+away_team_goal) AS avg_goals, sum(home_team_goal-away_team_goal) AS total_goals FROM Match JOIN Country on Country.id = Match.country_id JOIN League on League.id = Match.league_id LEFT JOIN Team AS HT on HT.team_api_id = Match.home_team_api_id LEFT JOIN Team AS AT on AT.team_api_id = Match.away_team_api_id WHERE country_name in ('Spain','Germany','France','Italy','England') GROUP BY Country.name, League.name, season HAVING count(distinct stage) > 10 ORDER BY Country.name, League.name, season DESC;\"\n",
    "all_seasons = pd.read_sql_query(all_seasons_query, connection)\n",
    "all_seasons"
   ],
   "metadata": {
    "collapsed": false
   },
   "id": "eb621c42df97bd47",
   "execution_count": null
  },
  {
   "cell_type": "code",
   "outputs": [],
   "source": [
    "df = pd.DataFrame(index = np.sort(all_seasons['season'].unique()), columns = all_seasons['country_name'].unique())\n",
    "df.loc[:,'Germany'] = list(all_seasons.loc[all_seasons['country_name'] == 'Germany', 'avg_goals'])\n",
    "df.loc[:,'Spain'] = list(all_seasons.loc[all_seasons['country_name'] == 'Spain', 'avg_goals'])\n",
    "df.loc[:,'France'] = list(all_seasons.loc[all_seasons['country_name'] == 'France', 'avg_goals'])\n",
    "df.loc[:,'Italy'] = list(all_seasons.loc[all_seasons['country_name'] == 'Italy', 'avg_goals'])\n",
    "df.loc[:,'England'] = list(all_seasons.loc[all_seasons['country_name'] == 'England', 'avg_goals'])\n",
    "df.plot(figsize = (14,7), title = 'Average Goals per Game')\n",
    "mpl.ylabel('Goals')\n",
    "mpl.xlabel('Season')\n",
    "mpl.show()"
   ],
   "metadata": {
    "collapsed": false
   },
   "id": "bf002cf910275c8b",
   "execution_count": null
  },
  {
   "cell_type": "markdown",
   "source": [
    "Select best players based on overall rating"
   ],
   "metadata": {
    "collapsed": false
   },
   "id": "1ecfaefca0a6232a"
  },
  {
   "cell_type": "code",
   "outputs": [],
   "source": [
    "best_players_query = \"SELECT player.player_api_id AS id, player_name, AVG(player_attributes.overall_rating) AS overall_rating, strftime('%d-%m-%Y', player.birthday) AS birthday, height, weight FROM Player LEFT JOIN player_attributes on player_attributes.player_api_id = player.player_api_id WHERE player_attributes.date BETWEEN '2015-01-01' AND '2015-12-31' GROUP BY Player.player_api_id ORDER BY overall_rating DESC\"\n",
    "best_players = pd.read_sql_query(best_players_query, connection)\n",
    "best_players.head()"
   ],
   "metadata": {
    "collapsed": false
   },
   "id": "40dc788cba3a489e",
   "execution_count": null
  },
  {
   "cell_type": "markdown",
   "source": [
    "Chart: Top 10 players based on overall rating in 2015"
   ],
   "metadata": {
    "collapsed": false
   },
   "id": "8f5d5eea1c0db3b5"
  },
  {
   "cell_type": "code",
   "outputs": [],
   "source": [
    "mpl.figure(figsize=(14, 7))\n",
    "top_players = best_players.head(10)\n",
    "mpl.barh(top_players['player_name'], top_players['overall_rating'])\n",
    "mpl.title('Top 10 Players by Overall Rating in 2015')\n",
    "mpl.xlabel('Overall Rating')\n",
    "mpl.ylabel('Player Name')\n",
    "mpl.gca().invert_yaxis()\n",
    "mpl.show()"
   ],
   "metadata": {
    "collapsed": false
   },
   "id": "d3e73b875b63aa92",
   "execution_count": null
  },
  {
   "cell_type": "markdown",
   "source": [
    "Select best players based on potential rating"
   ],
   "metadata": {
    "collapsed": false
   },
   "id": "236da5141137291a"
  },
  {
   "cell_type": "code",
   "outputs": [
    {
     "ename": "DatabaseError",
     "evalue": "Execution failed on sql 'SELECT player.player_api_id AS id, player_name, AVG(player_attributes.potential) AS potential_rating, AVG(player_attributes.overall_rating) AS overall_rating, strftime('%d-%m-%Y', player.birthday) AS birthday, height, weight FROM player LEFT JOIN player_attributes on player_attributes.player_api_id = player.player_api_id AND(player_attributes.date BETWEEN '2015-01-01' AND '2015-12-31') GROUP BY player.player_api_id ORDER BY potential_rating DESC': file is not a database",
     "output_type": "error",
     "traceback": [
      "\u001B[0;31m---------------------------------------------------------------------------\u001B[0m",
      "\u001B[0;31mDatabaseError\u001B[0m                             Traceback (most recent call last)",
      "File \u001B[0;32m~/PycharmProjects/pandasProject/.venv/lib/python3.12/site-packages/pandas/io/sql.py:2674\u001B[0m, in \u001B[0;36mSQLiteDatabase.execute\u001B[0;34m(self, sql, params)\u001B[0m\n\u001B[1;32m   2673\u001B[0m \u001B[38;5;28;01mtry\u001B[39;00m:\n\u001B[0;32m-> 2674\u001B[0m     \u001B[43mcur\u001B[49m\u001B[38;5;241;43m.\u001B[39;49m\u001B[43mexecute\u001B[49m\u001B[43m(\u001B[49m\u001B[43msql\u001B[49m\u001B[43m,\u001B[49m\u001B[43m \u001B[49m\u001B[38;5;241;43m*\u001B[39;49m\u001B[43margs\u001B[49m\u001B[43m)\u001B[49m\n\u001B[1;32m   2675\u001B[0m     \u001B[38;5;28;01mreturn\u001B[39;00m cur\n",
      "\u001B[0;31mDatabaseError\u001B[0m: file is not a database",
      "\nThe above exception was the direct cause of the following exception:\n",
      "\u001B[0;31mDatabaseError\u001B[0m                             Traceback (most recent call last)",
      "Cell \u001B[0;32mIn[273], line 2\u001B[0m\n\u001B[1;32m      1\u001B[0m best_potential_players_query \u001B[38;5;241m=\u001B[39m \u001B[38;5;124m\"\u001B[39m\u001B[38;5;124mSELECT player.player_api_id AS id, player_name, AVG(player_attributes.potential) AS potential_rating, AVG(player_attributes.overall_rating) AS overall_rating, strftime(\u001B[39m\u001B[38;5;124m'\u001B[39m\u001B[38;5;132;01m%d\u001B[39;00m\u001B[38;5;124m-\u001B[39m\u001B[38;5;124m%\u001B[39m\u001B[38;5;124mm-\u001B[39m\u001B[38;5;124m%\u001B[39m\u001B[38;5;124mY\u001B[39m\u001B[38;5;124m'\u001B[39m\u001B[38;5;124m, player.birthday) AS birthday, height, weight FROM player LEFT JOIN player_attributes on player_attributes.player_api_id = player.player_api_id AND(player_attributes.date BETWEEN \u001B[39m\u001B[38;5;124m'\u001B[39m\u001B[38;5;124m2015-01-01\u001B[39m\u001B[38;5;124m'\u001B[39m\u001B[38;5;124m AND \u001B[39m\u001B[38;5;124m'\u001B[39m\u001B[38;5;124m2015-12-31\u001B[39m\u001B[38;5;124m'\u001B[39m\u001B[38;5;124m) GROUP BY player.player_api_id ORDER BY potential_rating DESC\u001B[39m\u001B[38;5;124m\"\u001B[39m\n\u001B[0;32m----> 2\u001B[0m best_potential_players \u001B[38;5;241m=\u001B[39m \u001B[43mpd\u001B[49m\u001B[38;5;241;43m.\u001B[39;49m\u001B[43mread_sql_query\u001B[49m\u001B[43m(\u001B[49m\u001B[43mbest_potential_players_query\u001B[49m\u001B[43m,\u001B[49m\u001B[43m \u001B[49m\u001B[43mconnection\u001B[49m\u001B[43m)\u001B[49m\n\u001B[1;32m      3\u001B[0m best_potential_players\u001B[38;5;241m.\u001B[39mhead()\n",
      "File \u001B[0;32m~/PycharmProjects/pandasProject/.venv/lib/python3.12/site-packages/pandas/io/sql.py:526\u001B[0m, in \u001B[0;36mread_sql_query\u001B[0;34m(sql, con, index_col, coerce_float, params, parse_dates, chunksize, dtype, dtype_backend)\u001B[0m\n\u001B[1;32m    523\u001B[0m \u001B[38;5;28;01massert\u001B[39;00m dtype_backend \u001B[38;5;129;01mis\u001B[39;00m \u001B[38;5;129;01mnot\u001B[39;00m lib\u001B[38;5;241m.\u001B[39mno_default\n\u001B[1;32m    525\u001B[0m \u001B[38;5;28;01mwith\u001B[39;00m pandasSQL_builder(con) \u001B[38;5;28;01mas\u001B[39;00m pandas_sql:\n\u001B[0;32m--> 526\u001B[0m     \u001B[38;5;28;01mreturn\u001B[39;00m \u001B[43mpandas_sql\u001B[49m\u001B[38;5;241;43m.\u001B[39;49m\u001B[43mread_query\u001B[49m\u001B[43m(\u001B[49m\n\u001B[1;32m    527\u001B[0m \u001B[43m        \u001B[49m\u001B[43msql\u001B[49m\u001B[43m,\u001B[49m\n\u001B[1;32m    528\u001B[0m \u001B[43m        \u001B[49m\u001B[43mindex_col\u001B[49m\u001B[38;5;241;43m=\u001B[39;49m\u001B[43mindex_col\u001B[49m\u001B[43m,\u001B[49m\n\u001B[1;32m    529\u001B[0m \u001B[43m        \u001B[49m\u001B[43mparams\u001B[49m\u001B[38;5;241;43m=\u001B[39;49m\u001B[43mparams\u001B[49m\u001B[43m,\u001B[49m\n\u001B[1;32m    530\u001B[0m \u001B[43m        \u001B[49m\u001B[43mcoerce_float\u001B[49m\u001B[38;5;241;43m=\u001B[39;49m\u001B[43mcoerce_float\u001B[49m\u001B[43m,\u001B[49m\n\u001B[1;32m    531\u001B[0m \u001B[43m        \u001B[49m\u001B[43mparse_dates\u001B[49m\u001B[38;5;241;43m=\u001B[39;49m\u001B[43mparse_dates\u001B[49m\u001B[43m,\u001B[49m\n\u001B[1;32m    532\u001B[0m \u001B[43m        \u001B[49m\u001B[43mchunksize\u001B[49m\u001B[38;5;241;43m=\u001B[39;49m\u001B[43mchunksize\u001B[49m\u001B[43m,\u001B[49m\n\u001B[1;32m    533\u001B[0m \u001B[43m        \u001B[49m\u001B[43mdtype\u001B[49m\u001B[38;5;241;43m=\u001B[39;49m\u001B[43mdtype\u001B[49m\u001B[43m,\u001B[49m\n\u001B[1;32m    534\u001B[0m \u001B[43m        \u001B[49m\u001B[43mdtype_backend\u001B[49m\u001B[38;5;241;43m=\u001B[39;49m\u001B[43mdtype_backend\u001B[49m\u001B[43m,\u001B[49m\n\u001B[1;32m    535\u001B[0m \u001B[43m    \u001B[49m\u001B[43m)\u001B[49m\n",
      "File \u001B[0;32m~/PycharmProjects/pandasProject/.venv/lib/python3.12/site-packages/pandas/io/sql.py:2738\u001B[0m, in \u001B[0;36mSQLiteDatabase.read_query\u001B[0;34m(self, sql, index_col, coerce_float, parse_dates, params, chunksize, dtype, dtype_backend)\u001B[0m\n\u001B[1;32m   2727\u001B[0m \u001B[38;5;28;01mdef\u001B[39;00m \u001B[38;5;21mread_query\u001B[39m(\n\u001B[1;32m   2728\u001B[0m     \u001B[38;5;28mself\u001B[39m,\n\u001B[1;32m   2729\u001B[0m     sql,\n\u001B[0;32m   (...)\u001B[0m\n\u001B[1;32m   2736\u001B[0m     dtype_backend: DtypeBackend \u001B[38;5;241m|\u001B[39m Literal[\u001B[38;5;124m\"\u001B[39m\u001B[38;5;124mnumpy\u001B[39m\u001B[38;5;124m\"\u001B[39m] \u001B[38;5;241m=\u001B[39m \u001B[38;5;124m\"\u001B[39m\u001B[38;5;124mnumpy\u001B[39m\u001B[38;5;124m\"\u001B[39m,\n\u001B[1;32m   2737\u001B[0m ) \u001B[38;5;241m-\u001B[39m\u001B[38;5;241m>\u001B[39m DataFrame \u001B[38;5;241m|\u001B[39m Iterator[DataFrame]:\n\u001B[0;32m-> 2738\u001B[0m     cursor \u001B[38;5;241m=\u001B[39m \u001B[38;5;28;43mself\u001B[39;49m\u001B[38;5;241;43m.\u001B[39;49m\u001B[43mexecute\u001B[49m\u001B[43m(\u001B[49m\u001B[43msql\u001B[49m\u001B[43m,\u001B[49m\u001B[43m \u001B[49m\u001B[43mparams\u001B[49m\u001B[43m)\u001B[49m\n\u001B[1;32m   2739\u001B[0m     columns \u001B[38;5;241m=\u001B[39m [col_desc[\u001B[38;5;241m0\u001B[39m] \u001B[38;5;28;01mfor\u001B[39;00m col_desc \u001B[38;5;129;01min\u001B[39;00m cursor\u001B[38;5;241m.\u001B[39mdescription]\n\u001B[1;32m   2741\u001B[0m     \u001B[38;5;28;01mif\u001B[39;00m chunksize \u001B[38;5;129;01mis\u001B[39;00m \u001B[38;5;129;01mnot\u001B[39;00m \u001B[38;5;28;01mNone\u001B[39;00m:\n",
      "File \u001B[0;32m~/PycharmProjects/pandasProject/.venv/lib/python3.12/site-packages/pandas/io/sql.py:2686\u001B[0m, in \u001B[0;36mSQLiteDatabase.execute\u001B[0;34m(self, sql, params)\u001B[0m\n\u001B[1;32m   2683\u001B[0m     \u001B[38;5;28;01mraise\u001B[39;00m ex \u001B[38;5;28;01mfrom\u001B[39;00m \u001B[38;5;21;01minner_exc\u001B[39;00m\n\u001B[1;32m   2685\u001B[0m ex \u001B[38;5;241m=\u001B[39m DatabaseError(\u001B[38;5;124mf\u001B[39m\u001B[38;5;124m\"\u001B[39m\u001B[38;5;124mExecution failed on sql \u001B[39m\u001B[38;5;124m'\u001B[39m\u001B[38;5;132;01m{\u001B[39;00msql\u001B[38;5;132;01m}\u001B[39;00m\u001B[38;5;124m'\u001B[39m\u001B[38;5;124m: \u001B[39m\u001B[38;5;132;01m{\u001B[39;00mexc\u001B[38;5;132;01m}\u001B[39;00m\u001B[38;5;124m\"\u001B[39m)\n\u001B[0;32m-> 2686\u001B[0m \u001B[38;5;28;01mraise\u001B[39;00m ex \u001B[38;5;28;01mfrom\u001B[39;00m \u001B[38;5;21;01mexc\u001B[39;00m\n",
      "\u001B[0;31mDatabaseError\u001B[0m: Execution failed on sql 'SELECT player.player_api_id AS id, player_name, AVG(player_attributes.potential) AS potential_rating, AVG(player_attributes.overall_rating) AS overall_rating, strftime('%d-%m-%Y', player.birthday) AS birthday, height, weight FROM player LEFT JOIN player_attributes on player_attributes.player_api_id = player.player_api_id AND(player_attributes.date BETWEEN '2015-01-01' AND '2015-12-31') GROUP BY player.player_api_id ORDER BY potential_rating DESC': file is not a database"
     ]
    }
   ],
   "source": [
    "best_potential_players_query = \"SELECT player.player_api_id AS id, player_name, AVG(player_attributes.potential) AS potential_rating, AVG(player_attributes.overall_rating) AS overall_rating, strftime('%d-%m-%Y', player.birthday) AS birthday, height, weight FROM player LEFT JOIN player_attributes on player_attributes.player_api_id = player.player_api_id AND(player_attributes.date BETWEEN '2015-01-01' AND '2015-12-31') GROUP BY player.player_api_id ORDER BY potential_rating DESC\"\n",
    "best_potential_players = pd.read_sql_query(best_potential_players_query, connection)\n",
    "best_potential_players.head()"
   ],
   "metadata": {
    "collapsed": false,
    "ExecuteTime": {
     "end_time": "2024-06-01T00:49:25.462811Z",
     "start_time": "2024-06-01T00:49:25.436297Z"
    }
   },
   "id": "c2f198cf840baeab",
   "execution_count": 273
  },
  {
   "cell_type": "markdown",
   "source": [
    "Chart: Top 10 players based on potential rating in 2015"
   ],
   "metadata": {
    "collapsed": false
   },
   "id": "9fb09ccd9f4f387"
  },
  {
   "cell_type": "code",
   "outputs": [],
   "source": [
    "mpl.figure(figsize=(14, 7))\n",
    "top_potential_players = best_potential_players.head(10)\n",
    "mpl.barh(top_potential_players['player_name'], top_potential_players['potential_rating'])\n",
    "mpl.title('Top 10 Players by Potential Rating in 2015')\n",
    "mpl.xlabel('Potential Rating')\n",
    "mpl.ylabel('Player Name')\n",
    "mpl.gca().invert_yaxis()\n",
    "mpl.show()"
   ],
   "metadata": {
    "collapsed": false,
    "ExecuteTime": {
     "end_time": "2024-06-01T00:49:25.464145Z",
     "start_time": "2024-06-01T00:49:25.464097Z"
    }
   },
   "id": "3fea99704306a088",
   "execution_count": null
  },
  {
   "cell_type": "markdown",
   "source": [
    "Close DB connection"
   ],
   "metadata": {
    "collapsed": false
   },
   "id": "41ebb049071719ab"
  },
  {
   "cell_type": "code",
   "outputs": [],
   "source": [
    "connection.close()"
   ],
   "metadata": {
    "collapsed": false
   },
   "id": "376ca82635886c98",
   "execution_count": null
  }
 ],
 "metadata": {
  "kernelspec": {
   "display_name": "Python 3",
   "language": "python",
   "name": "python3"
  },
  "language_info": {
   "codemirror_mode": {
    "name": "ipython",
    "version": 2
   },
   "file_extension": ".py",
   "mimetype": "text/x-python",
   "name": "python",
   "nbconvert_exporter": "python",
   "pygments_lexer": "ipython2",
   "version": "2.7.6"
  }
 },
 "nbformat": 4,
 "nbformat_minor": 5
}
